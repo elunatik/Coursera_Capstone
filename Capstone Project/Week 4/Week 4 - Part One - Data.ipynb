{
 "cells": [
  {
   "cell_type": "markdown",
   "metadata": {},
   "source": [
    "# Capstone Project"
   ]
  },
  {
   "cell_type": "markdown",
   "metadata": {},
   "source": [
    "## Part A"
   ]
  },
  {
   "cell_type": "markdown",
   "metadata": {},
   "source": [
    "### Introduction"
   ]
  },
  {
   "cell_type": "markdown",
   "metadata": {},
   "source": [
    "I lived in the city of Austin, Texas for 4 years. I personally saw how the city was increasing in different types of businesses. However, Austin is a small city which can make it difficult to place new businesses in already crowded locations like downtown. The crowdedness in a single area is not the only concern, but that single area can also have similar types of businesses. \n",
    "\n",
    "In this report I will cluster similar venues around the different zip codes in Austin. New business owners should then be able to use this report to stratigically place their new business in Austin. With the help of <b>Foursquare</b>, we should be able to: see the amount of businesses in an area, the types of businesses, and the most common venues of an area.\n",
    "\n",
    "<i>This report should not be used as the main decision maker on placing a new business in austin.</i>"
   ]
  },
  {
   "cell_type": "markdown",
   "metadata": {},
   "source": [
    "### Data"
   ]
  },
  {
   "cell_type": "markdown",
   "metadata": {},
   "source": [
    "The data will be similar to the data used in the IBM course, which consists of: Zip Code, Longitude, Latitude, Venue, and Venue Category. \n",
    "\n",
    "I will collect data from https://www.zip-codes.com/m/city/tx-austin.asp which has the zip codes for Austin. I will also collect the latitude and longitude from this website with the use of a function.\n",
    "\n",
    "<b>Foursquare</b> will then provide me with the venue data around the zip codes. \n",
    "\n",
    "The Latitude and Longitude data will be used by the library <b>Folium</b> so a map and the markers can be created.\n",
    "\n",
    "The idea would be to have a dataframe like below:\n",
    "\n",
    "|Index|ZipCode|Latitude|Longitude|1st Common Venue| 2nd Common Venue| ... | 10th Common Venue|\n",
    "|-----|-------|--------|---------|----------------|-----------------|-----|------------------|\n",
    "|0    |NA     |NA      |NA       |NA              |NA               | ... |NA                |\n",
    "\n",
    "\n"
   ]
  }
 ],
 "metadata": {
  "kernelspec": {
   "display_name": "Python 3",
   "language": "python",
   "name": "python3"
  },
  "language_info": {
   "codemirror_mode": {
    "name": "ipython",
    "version": 3
   },
   "file_extension": ".py",
   "mimetype": "text/x-python",
   "name": "python",
   "nbconvert_exporter": "python",
   "pygments_lexer": "ipython3",
   "version": "3.7.0"
  }
 },
 "nbformat": 4,
 "nbformat_minor": 2
}
